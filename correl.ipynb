{
 "cells": [
  {
   "cell_type": "code",
   "execution_count": 7,
   "id": "96d13122",
   "metadata": {},
   "outputs": [],
   "source": [
    "import pandas as pd\n",
    "import matplotlib.pyplot as plt\n",
    "import seaborn as sns\n",
    "import numpy as np"
   ]
  },
  {
   "cell_type": "code",
   "execution_count": 8,
   "id": "a556d066",
   "metadata": {},
   "outputs": [],
   "source": [
    "# reading data\n",
    "df = pd.read_csv('../github/hidden_features_df.csv', index_col=\"Unnamed: 0\")\n",
    "#df = pd.read_csv('hidden_features_df.csv', index_col=\"Unnamed: 0\")"
   ]
  },
  {
   "cell_type": "code",
   "execution_count": 9,
   "id": "cf19fffa",
   "metadata": {},
   "outputs": [
    {
     "data": {
      "text/html": [
       "<div>\n",
       "<style scoped>\n",
       "    .dataframe tbody tr th:only-of-type {\n",
       "        vertical-align: middle;\n",
       "    }\n",
       "\n",
       "    .dataframe tbody tr th {\n",
       "        vertical-align: top;\n",
       "    }\n",
       "\n",
       "    .dataframe thead th {\n",
       "        text-align: right;\n",
       "    }\n",
       "</style>\n",
       "<table border=\"1\" class=\"dataframe\">\n",
       "  <thead>\n",
       "    <tr style=\"text-align: right;\">\n",
       "      <th></th>\n",
       "      <th>label</th>\n",
       "      <th>feature_1</th>\n",
       "      <th>feature_2</th>\n",
       "      <th>feature_3</th>\n",
       "      <th>feature_4</th>\n",
       "      <th>feature_5</th>\n",
       "      <th>feature_6</th>\n",
       "      <th>feature_7</th>\n",
       "      <th>feature_8</th>\n",
       "      <th>feature_9</th>\n",
       "      <th>feature_10</th>\n",
       "    </tr>\n",
       "  </thead>\n",
       "  <tbody>\n",
       "    <tr>\n",
       "      <th>0</th>\n",
       "      <td>8</td>\n",
       "      <td>0.0</td>\n",
       "      <td>11.246423</td>\n",
       "      <td>0.0</td>\n",
       "      <td>7.995950</td>\n",
       "      <td>9.410959</td>\n",
       "      <td>19.745337</td>\n",
       "      <td>9.010060</td>\n",
       "      <td>8.527996</td>\n",
       "      <td>10.110795</td>\n",
       "      <td>19.589340</td>\n",
       "    </tr>\n",
       "    <tr>\n",
       "      <th>1</th>\n",
       "      <td>8</td>\n",
       "      <td>0.0</td>\n",
       "      <td>13.312637</td>\n",
       "      <td>0.0</td>\n",
       "      <td>10.743755</td>\n",
       "      <td>11.378502</td>\n",
       "      <td>18.715256</td>\n",
       "      <td>11.810072</td>\n",
       "      <td>11.065614</td>\n",
       "      <td>12.528616</td>\n",
       "      <td>18.708977</td>\n",
       "    </tr>\n",
       "    <tr>\n",
       "      <th>2</th>\n",
       "      <td>5</td>\n",
       "      <td>0.0</td>\n",
       "      <td>0.000000</td>\n",
       "      <td>0.0</td>\n",
       "      <td>0.000000</td>\n",
       "      <td>0.000000</td>\n",
       "      <td>28.648830</td>\n",
       "      <td>0.000000</td>\n",
       "      <td>0.000000</td>\n",
       "      <td>0.000000</td>\n",
       "      <td>30.524609</td>\n",
       "    </tr>\n",
       "    <tr>\n",
       "      <th>3</th>\n",
       "      <td>5</td>\n",
       "      <td>0.0</td>\n",
       "      <td>0.000000</td>\n",
       "      <td>0.0</td>\n",
       "      <td>0.000000</td>\n",
       "      <td>0.000000</td>\n",
       "      <td>26.991035</td>\n",
       "      <td>0.000000</td>\n",
       "      <td>0.000000</td>\n",
       "      <td>0.000000</td>\n",
       "      <td>29.041384</td>\n",
       "    </tr>\n",
       "    <tr>\n",
       "      <th>4</th>\n",
       "      <td>8</td>\n",
       "      <td>0.0</td>\n",
       "      <td>5.038842</td>\n",
       "      <td>0.0</td>\n",
       "      <td>5.323320</td>\n",
       "      <td>5.368689</td>\n",
       "      <td>22.266983</td>\n",
       "      <td>4.806798</td>\n",
       "      <td>4.124915</td>\n",
       "      <td>4.903548</td>\n",
       "      <td>23.818264</td>\n",
       "    </tr>\n",
       "  </tbody>\n",
       "</table>\n",
       "</div>"
      ],
      "text/plain": [
       "   label  feature_1  feature_2  feature_3  feature_4  feature_5  feature_6  \\\n",
       "0      8        0.0  11.246423        0.0   7.995950   9.410959  19.745337   \n",
       "1      8        0.0  13.312637        0.0  10.743755  11.378502  18.715256   \n",
       "2      5        0.0   0.000000        0.0   0.000000   0.000000  28.648830   \n",
       "3      5        0.0   0.000000        0.0   0.000000   0.000000  26.991035   \n",
       "4      8        0.0   5.038842        0.0   5.323320   5.368689  22.266983   \n",
       "\n",
       "   feature_7  feature_8  feature_9  feature_10  \n",
       "0   9.010060   8.527996  10.110795   19.589340  \n",
       "1  11.810072  11.065614  12.528616   18.708977  \n",
       "2   0.000000   0.000000   0.000000   30.524609  \n",
       "3   0.000000   0.000000   0.000000   29.041384  \n",
       "4   4.806798   4.124915   4.903548   23.818264  "
      ]
     },
     "execution_count": 9,
     "metadata": {},
     "output_type": "execute_result"
    }
   ],
   "source": [
    "# showing 5 first registers\n",
    "df.head(5) "
   ]
  },
  {
   "cell_type": "code",
   "execution_count": 10,
   "id": "286450a2",
   "metadata": {},
   "outputs": [
    {
     "name": "stdout",
     "output_type": "stream",
     "text": [
      "feature_1  feature_1\n",
      "0.0        0.0          9370\n",
      "Name: feature_1, dtype: int64\n",
      "feature_3  feature_3\n",
      "0.0        0.0          9370\n",
      "Name: feature_3, dtype: int64\n"
     ]
    }
   ],
   "source": [
    "# checking if feature_1 and feature_3 have all zeros\n",
    "counts_feature1 = df.groupby('feature_1')['feature_1'].value_counts()\n",
    "print(counts_feature1)\n",
    "\n",
    "counts_feature3 = df.groupby('feature_3')['feature_3'].value_counts()\n",
    "print(counts_feature3)"
   ]
  },
  {
   "cell_type": "code",
   "execution_count": 11,
   "id": "6109b1ed",
   "metadata": {},
   "outputs": [],
   "source": [
    "# dropping feature_1 and feature_3\n",
    "df = df.drop(['feature_1', 'feature_3'], axis=1)"
   ]
  },
  {
   "cell_type": "code",
   "execution_count": 12,
   "id": "bff4956f",
   "metadata": {},
   "outputs": [],
   "source": [
    "# Plotting the correlation heatmap\n",
    "\n",
    "# Selecting the features\n",
    "df_features = df.drop(['label'], axis=1)"
   ]
  },
  {
   "cell_type": "code",
   "execution_count": 13,
   "id": "b62d10e5",
   "metadata": {},
   "outputs": [
    {
     "data": {
      "image/png": "[encoded data removed]",
      "text/plain": [
       "<Figure size 432x288 with 2 Axes>"
      ]
     },
     "metadata": {
      "needs_background": "light"
     },
     "output_type": "display_data"
    }
   ],
   "source": [
    "sns.heatmap(df_features.corr(), annot=True, cmap=\"YlGnBu\")\n",
    "plt.show()"
   ]
  },
  {
   "cell_type": "code",
   "execution_count": 24,
   "id": "5420a92e",
   "metadata": {},
   "outputs": [],
   "source": [
    "from scipy.stats import pearsonr"
   ]
  },
  {
   "cell_type": "code",
   "execution_count": 25,
   "id": "0318f6ca",
   "metadata": {},
   "outputs": [],
   "source": [
    "features = ['feature_2', 'feature_4', 'feature_5', 'feature_6', 'feature_7', 'feature_8', 'feature_9', 'feature_10']\n",
    "\n",
    "corr_matrix = np.corrcoef(df_features[features].values.T)"
   ]
  },
  {
   "cell_type": "code",
   "execution_count": 26,
   "id": "495bf2d3",
   "metadata": {},
   "outputs": [
    {
     "name": "stdout",
     "output_type": "stream",
     "text": [
      "[[ 1.          0.98681048  0.9888875  -0.7996947   0.98783106  0.99060721\n",
      "   0.99269351 -0.79114215]\n",
      " [ 0.98681048  1.          0.99054977 -0.81386609  0.99516642  0.99270598\n",
      "   0.99319632 -0.80019821]\n",
      " [ 0.9888875   0.99054977  1.         -0.80307158  0.99052858  0.98710835\n",
      "   0.99305055 -0.78968841]\n",
      " [-0.7996947  -0.81386609 -0.80307158  1.         -0.81257573 -0.81427296\n",
      "  -0.80372807  0.98907079]\n",
      " [ 0.98783106  0.99516642  0.99052858 -0.81257573  1.          0.99473772\n",
      "   0.99302256 -0.80091406]\n",
      " [ 0.99060721  0.99270598  0.98710835 -0.81427296  0.99473772  1.\n",
      "   0.99361247 -0.80499724]\n",
      " [ 0.99269351  0.99319632  0.99305055 -0.80372807  0.99302256  0.99361247\n",
      "   1.         -0.79205211]\n",
      " [-0.79114215 -0.80019821 -0.78968841  0.98907079 -0.80091406 -0.80499724\n",
      "  -0.79205211  1.        ]]\n"
     ]
    }
   ],
   "source": [
    "# print the correlation matrix\n",
    "print(corr_matrix)"
   ]
  },
  {
   "cell_type": "code",
   "execution_count": 27,
   "id": "8dc34fa3",
   "metadata": {},
   "outputs": [
    {
     "name": "stdout",
     "output_type": "stream",
     "text": [
      "Correlation coefficient between feature_2 and feature_4 : 0.9868104812179446\n",
      "p-value for the correlation between feature_2 and feature_4 : 0.0\n",
      "Correlation coefficient between feature_2 and feature_5 : 0.9888875030570793\n",
      "p-value for the correlation between feature_2 and feature_5 : 0.0\n",
      "Correlation coefficient between feature_2 and feature_6 : -0.7996946969924587\n",
      "p-value for the correlation between feature_2 and feature_6 : 0.0\n",
      "Correlation coefficient between feature_2 and feature_7 : 0.9878310550625313\n",
      "p-value for the correlation between feature_2 and feature_7 : 0.0\n",
      "Correlation coefficient between feature_2 and feature_8 : 0.9906072090151792\n",
      "p-value for the correlation between feature_2 and feature_8 : 0.0\n",
      "Correlation coefficient between feature_2 and feature_9 : 0.9926935079755755\n",
      "p-value for the correlation between feature_2 and feature_9 : 0.0\n",
      "Correlation coefficient between feature_2 and feature_10 : -0.7911421462830092\n",
      "p-value for the correlation between feature_2 and feature_10 : 0.0\n",
      "Correlation coefficient between feature_4 and feature_5 : 0.9905497746434476\n",
      "p-value for the correlation between feature_4 and feature_5 : 0.0\n",
      "Correlation coefficient between feature_4 and feature_6 : -0.8138660921786494\n",
      "p-value for the correlation between feature_4 and feature_6 : 0.0\n",
      "Correlation coefficient between feature_4 and feature_7 : 0.995166419455776\n",
      "p-value for the correlation between feature_4 and feature_7 : 0.0\n",
      "Correlation coefficient between feature_4 and feature_8 : 0.9927059766183159\n",
      "p-value for the correlation between feature_4 and feature_8 : 0.0\n",
      "Correlation coefficient between feature_4 and feature_9 : 0.9931963206870209\n",
      "p-value for the correlation between feature_4 and feature_9 : 0.0\n",
      "Correlation coefficient between feature_4 and feature_10 : -0.800198213483075\n",
      "p-value for the correlation between feature_4 and feature_10 : 0.0\n",
      "Correlation coefficient between feature_5 and feature_6 : -0.8030715824617864\n",
      "p-value for the correlation between feature_5 and feature_6 : 0.0\n",
      "Correlation coefficient between feature_5 and feature_7 : 0.9905285831981746\n",
      "p-value for the correlation between feature_5 and feature_7 : 0.0\n",
      "Correlation coefficient between feature_5 and feature_8 : 0.9871083502424244\n",
      "p-value for the correlation between feature_5 and feature_8 : 0.0\n",
      "Correlation coefficient between feature_5 and feature_9 : 0.9930505517475547\n",
      "p-value for the correlation between feature_5 and feature_9 : 0.0\n",
      "Correlation coefficient between feature_5 and feature_10 : -0.7896884122034644\n",
      "p-value for the correlation between feature_5 and feature_10 : 0.0\n",
      "Correlation coefficient between feature_6 and feature_7 : -0.812575728569139\n",
      "p-value for the correlation between feature_6 and feature_7 : 0.0\n",
      "Correlation coefficient between feature_6 and feature_8 : -0.8142729644720363\n",
      "p-value for the correlation between feature_6 and feature_8 : 0.0\n",
      "Correlation coefficient between feature_6 and feature_9 : -0.8037280699241559\n",
      "p-value for the correlation between feature_6 and feature_9 : 0.0\n",
      "Correlation coefficient between feature_6 and feature_10 : 0.9890707867418507\n",
      "p-value for the correlation between feature_6 and feature_10 : 0.0\n",
      "Correlation coefficient between feature_7 and feature_8 : 0.9947377161478691\n",
      "p-value for the correlation between feature_7 and feature_8 : 0.0\n",
      "Correlation coefficient between feature_7 and feature_9 : 0.993022562439307\n",
      "p-value for the correlation between feature_7 and feature_9 : 0.0\n",
      "Correlation coefficient between feature_7 and feature_10 : -0.800914062808041\n",
      "p-value for the correlation between feature_7 and feature_10 : 0.0\n",
      "Correlation coefficient between feature_8 and feature_9 : 0.9936124704041949\n",
      "p-value for the correlation between feature_8 and feature_9 : 0.0\n",
      "Correlation coefficient between feature_8 and feature_10 : -0.8049972428413322\n",
      "p-value for the correlation between feature_8 and feature_10 : 0.0\n",
      "Correlation coefficient between feature_9 and feature_10 : -0.7920521071425995\n",
      "p-value for the correlation between feature_9 and feature_10 : 0.0\n"
     ]
    }
   ],
   "source": [
    "for i, feat1 in enumerate(features):\n",
    "    for j, feat2 in enumerate(features):\n",
    "        if i < j:\n",
    "            corr_coef, p_value = pearsonr(df[feat1], df[feat2])\n",
    "            print(\"Correlation coefficient between\", feat1, \"and\", feat2, \":\", corr_coef)\n",
    "            print(\"p-value for the correlation between\", feat1, \"and\", feat2, \":\", p_value)"
   ]
  }
 ],
 "metadata": {
  "kernelspec": {
   "display_name": "Python 3 (ipykernel)",
   "language": "python",
   "name": "python3"
  },
  "language_info": {
   "codemirror_mode": {
    "name": "ipython",
    "version": 3
   },
   "file_extension": ".py",
   "mimetype": "text/x-python",
   "name": "python",
   "nbconvert_exporter": "python",
   "pygments_lexer": "ipython3",
   "version": "3.9.12"
  }
 },
 "nbformat": 4,
 "nbformat_minor": 5
}
